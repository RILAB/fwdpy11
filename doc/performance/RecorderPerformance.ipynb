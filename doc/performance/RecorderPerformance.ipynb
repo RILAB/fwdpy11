{
 "cells": [
  {
   "cell_type": "raw",
   "metadata": {
    "raw_mimetype": "text/restructuredtext"
   },
   "source": [
    ".. _recorderperf:"
   ]
  },
  {
   "cell_type": "markdown",
   "metadata": {},
   "source": [
    "# Implementing efficient recorders"
   ]
  },
  {
   "cell_type": "code",
   "execution_count": 1,
   "metadata": {
    "collapsed": true
   },
   "outputs": [],
   "source": [
    "import fwdpy11\n",
    "import fwdpy11.model_params\n",
    "import fwdpy11.fitness\n",
    "import fwdpy11.wright_fisher\n",
    "\n",
    "def evolve(args):\n",
    "    \"\"\"\n",
    "    Evolve function takes an initial\n",
    "    population size,\n",
    "    RNG seed, and the type name of a recorder as\n",
    "    arguments.\n",
    "    \"\"\"\n",
    "    N,seed,recorderType,theta,rho,simlen=args\n",
    "    pop = fwdpy11.SlocusPop(N)\n",
    "    rng=fwdpy11.GSLrng(seed)\n",
    "    nrate=theta/float(4*N)\n",
    "    recrate=rho/float(4*N)\n",
    "    params=fwdpy11.model_params.SlocusParams(\n",
    "        nregions=[fwdpy11.Region(0,1,1)],\n",
    "        sregions=[fwdpy11.ExpS(0,1,1,-0.1,1.0)],\n",
    "        recregions=[fwdpy11.Region(0,1,1)],\n",
    "        gvalue=fwdpy11.fitness.SlocusAdditive(2.0),\n",
    "        demography=np.array([N]*simlen,dtype=np.uint32),\n",
    "        rates=(nrate,5e-3,recrate))\n",
    "    recorder = None\n",
    "    if recorderType is not None:\n",
    "        recorder=recorderType(simlen)\n",
    "    fwdpy11.wright_fisher.evolve(rng,pop,params,recorder)\n",
    "    return recorder.data"
   ]
  },
  {
   "cell_type": "code",
   "execution_count": 2,
   "metadata": {
    "collapsed": true
   },
   "outputs": [],
   "source": [
    "import numpy as np\n",
    "\n",
    "class PyRecorder(object):\n",
    "    def __init__(self,simlen):\n",
    "        self.i = 0\n",
    "        self.data=np.array([(-1,np.nan,np.nan,np.nan)]*simlen,\n",
    "                          dtype=[('generation',np.uint32),\n",
    "                                ('wbar',np.float),\n",
    "                                ('s1',np.float),\n",
    "                                ('s2',np.float)])\n",
    "    def __call__(self,pop):\n",
    "        fitness = np.zeros(pop.N,dtype=np.float)\n",
    "        nmuts1 = np.zeros(pop.N,dtype=np.float)\n",
    "        nmuts2 = np.zeros(pop.N,dtype=np.float)\n",
    "        j=0\n",
    "        for dip in pop.diploids:\n",
    "            fitness[j]=dip.w\n",
    "            n1 = 0.\n",
    "            for j in pop.gametes[dip.first].smutations:\n",
    "                n1 += pop.mutations[j].s\n",
    "            n2 = 0.\n",
    "            for j in pop.gametes[dip.second].smutations:\n",
    "                n2 += pop.mutations[j].s\n",
    "            nmuts1[j]=n1\n",
    "            nmuts2[j]=n2\n",
    "            j+=1\n",
    "        self.data[self.i] = (pop.generation,fitness.mean(),nmuts1.mean(),nmuts2.mean())\n",
    "        self.i += 1\n",
    "        \n",
    "class PyRecorder2(object):\n",
    "    def __init__(self,simlen):\n",
    "        self.i = 0\n",
    "        self.data=np.array([(-1,np.nan,np.nan,np.nan)]*simlen,\n",
    "                          dtype=[('generation',np.uint32),\n",
    "                                ('wbar',np.float),\n",
    "                                ('s1',np.float),\n",
    "                                ('s2',np.float)])\n",
    "    def __call__(self,pop):\n",
    "        wbar = np.array(pop.diploids.trait_array())['w'].mean()\n",
    "        esizes = np.array(pop.mutations.array())['s']\n",
    "        #nmuts1 = np.zeros(pop.N,dtype=np.float)\n",
    "        #nmuts2 = np.zeros(pop.N,dtype=np.float)\n",
    "        j=0\n",
    "        nm1=0.\n",
    "        nm2=0.\n",
    "        for dip in pop.diploids:\n",
    "            nm1 += esizes[np.array(pop.gametes[dip.first].smutations)].sum()\n",
    "            nm2 += esizes[np.array(pop.gametes[dip.second].smutations)].sum()\n",
    "            j+=1\n",
    "            \n",
    "        self.data[self.i] = (pop.generation,wbar,nm1/float(pop.N),nm2/float(pop.N))\n",
    "        self.i += 1"
   ]
  },
  {
   "cell_type": "code",
   "execution_count": 3,
   "metadata": {
    "collapsed": true
   },
   "outputs": [],
   "source": [
    "%load_ext Cython"
   ]
  },
  {
   "cell_type": "code",
   "execution_count": 4,
   "metadata": {},
   "outputs": [],
   "source": [
    "%%cython --cplus --compile-args=-std=c++11\n",
    "from libcpp.vector cimport vector\n",
    "from libc.stdint cimport uint32_t\n",
    "from cython.view cimport array as cvarray\n",
    "import numpy as np\n",
    "cimport numpy as np\n",
    "cimport cython\n",
    "\n",
    "cdef struct my_data:\n",
    "    uint32_t generation\n",
    "    double wbar,s1,s2\n",
    "\n",
    "@cython.boundscheck(False)\n",
    "cdef inline double sum_e(uint32_t[:] keys,double[:] esizes) nogil:\n",
    "    cdef size_t i = 0, l = keys.shape[0]\n",
    "    cdef double t = 0.\n",
    "    while i < l:\n",
    "        t += esizes[i]\n",
    "        i+=1\n",
    "\n",
    "cdef class CyRecorder(object):\n",
    "    cdef my_data d\n",
    "    cdef readonly vector[my_data] data\n",
    "    \n",
    "    def __cinit__(self,uint32_t simlen):\n",
    "        self.data = vector[my_data]()\n",
    "        self.data.reserve(simlen)\n",
    "        \n",
    "    def __call__(self,pop):\n",
    "        wbar = np.array(pop.diploids.trait_array())['w'].mean()\n",
    "        cdef np.ndarray[double,ndim=1] esizes = np.array(pop.mutations.array())['s']\n",
    "        cdef double[:] esizes_view = esizes\n",
    "        cdef double g1,g2,t1=0.,t2=0.\n",
    "        for dip in pop.diploids:\n",
    "            g1 = sum_e(pop.gametes[dip.first].mutations,esizes_view)\n",
    "            g2 = sum_e(pop.gametes[dip.second].mutations,esizes_view)\n",
    "            t1 += g1\n",
    "            t1 += g2\n",
    "        self.d.generation = pop.generation\n",
    "        self.d.wbar = wbar\n",
    "        self.d.s1 = t1/<double>(pop.N)\n",
    "        self.d.s2 = t2/<double>(pop.N)\n",
    "        self.data.push_back(self.d)"
   ]
  },
  {
   "cell_type": "code",
   "execution_count": 5,
   "metadata": {
    "collapsed": true
   },
   "outputs": [],
   "source": [
    "import cppimport\n",
    "cppimport.set_quiet(True)\n",
    "import os\n",
    "sampler = cppimport.imp(\"sampler\")"
   ]
  },
  {
   "cell_type": "code",
   "execution_count": 9,
   "metadata": {},
   "outputs": [
    {
     "name": "stdout",
     "output_type": "stream",
     "text": [
      "52.8 s ± 604 ms per loop (mean ± std. dev. of 7 runs, 1 loop each)\n"
     ]
    }
   ],
   "source": [
    "%timeit x=evolve((1000,42,PyRecorder,100.,100.,500))"
   ]
  },
  {
   "cell_type": "code",
   "execution_count": 8,
   "metadata": {},
   "outputs": [
    {
     "name": "stdout",
     "output_type": "stream",
     "text": [
      "35.1 s ± 1.36 s per loop (mean ± std. dev. of 7 runs, 1 loop each)\n"
     ]
    }
   ],
   "source": [
    "%timeit x=evolve((1000,42,PyRecorder2,100.,100.,500))"
   ]
  },
  {
   "cell_type": "code",
   "execution_count": 6,
   "metadata": {},
   "outputs": [
    {
     "name": "stdout",
     "output_type": "stream",
     "text": [
      "27.1 s ± 519 ms per loop (mean ± std. dev. of 7 runs, 1 loop each)\n"
     ]
    }
   ],
   "source": [
    "%timeit x=evolve((1000,42,CyRecorder,100.,100.,500))"
   ]
  },
  {
   "cell_type": "code",
   "execution_count": 7,
   "metadata": {},
   "outputs": [
    {
     "name": "stdout",
     "output_type": "stream",
     "text": [
      "238 ms ± 6.1 ms per loop (mean ± std. dev. of 7 runs, 1 loop each)\n"
     ]
    }
   ],
   "source": [
    "%timeit x=evolve((1000,42,sampler.cppRecorder,100.,100.,500))"
   ]
  },
  {
   "cell_type": "code",
   "execution_count": 10,
   "metadata": {},
   "outputs": [
    {
     "name": "stdout",
     "output_type": "stream",
     "text": [
      "1.8 s ± 57.6 ms per loop (mean ± std. dev. of 7 runs, 1 loop each)\n"
     ]
    }
   ],
   "source": [
    "%timeit x=evolve((10000,42,sampler.cppRecorder,100.,100.,500))"
   ]
  },
  {
   "cell_type": "code",
   "execution_count": 12,
   "metadata": {},
   "outputs": [
    {
     "name": "stdout",
     "output_type": "stream",
     "text": [
      "599 ms ± 24.5 ms per loop (mean ± std. dev. of 7 runs, 1 loop each)\n"
     ]
    }
   ],
   "source": [
    "%timeit x=evolve((1000,42,sampler.cppRecorder,1000.,1000.,500))"
   ]
  },
  {
   "cell_type": "code",
   "execution_count": 13,
   "metadata": {},
   "outputs": [
    {
     "name": "stdout",
     "output_type": "stream",
     "text": [
      "2.41 s ± 42.5 ms per loop (mean ± std. dev. of 7 runs, 1 loop each)\n"
     ]
    }
   ],
   "source": [
    "%timeit x=evolve((10000,42,sampler.cppRecorder,1000.,1000.,500))"
   ]
  },
  {
   "cell_type": "code",
   "execution_count": null,
   "metadata": {
    "collapsed": true
   },
   "outputs": [],
   "source": []
  }
 ],
 "metadata": {
  "anaconda-cloud": {},
  "celltoolbar": "Raw Cell Format",
  "kernelspec": {
   "display_name": "Python [default]",
   "language": "python",
   "name": "python3"
  },
  "language_info": {
   "codemirror_mode": {
    "name": "ipython",
    "version": 3
   },
   "file_extension": ".py",
   "mimetype": "text/x-python",
   "name": "python",
   "nbconvert_exporter": "python",
   "pygments_lexer": "ipython3",
   "version": "3.5.3"
  }
 },
 "nbformat": 4,
 "nbformat_minor": 2
}
